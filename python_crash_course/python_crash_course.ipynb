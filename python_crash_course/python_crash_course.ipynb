{
 "cells": [
  {
   "cell_type": "markdown",
   "metadata": {},
   "source": [
    "# Python Crash Course \n",
    "\n",
    "## Data Types \n",
    "\n",
    "### Numbers \n",
    "### Strings \n",
    "### Print Formatting \n",
    "### Lists \n",
    "### Dictionaries \n",
    "### Bools \n",
    "### Tuples and Sets \n",
    "\n",
    "\n",
    "There are two basic number types. Integers and Floating point numbers. \n",
    "\n",
    "Python does follow an order of operation (BODMAS) whilst evaluating arithmetic problems. \n",
    "\n",
    "In Python 3, they made the / operator do a floating-point division, and added the // operator to do integer division (i.e. quotient without remainder)\n"
   ]
  },
  {
   "cell_type": "code",
   "execution_count": 11,
   "metadata": {},
   "outputs": [
    {
     "name": "stdout",
     "output_type": "stream",
     "text": [
      "5 + 2 = 7\n",
      "5 - 2 = 3\n",
      "5 * 2 = 10\n",
      "5 % 2 = 1\n",
      "5 ** 2 = 25\n",
      "5 / 2 = 2.5\n",
      "5 // 2 = 2\n"
     ]
    }
   ],
   "source": [
    "print(\"5 + 2 =\", 5 + 2)\n",
    "print(\"5 - 2 =\", 5 - 2)\n",
    "print(\"5 * 2 =\", 5 * 2)\n",
    "print(\"5 % 2 =\", 5 % 2)\n",
    "print(\"5 ** 2 =\", 5 ** 2)\n",
    "print(\"5 / 2 =\", 5 / 2)\n",
    "print(\"5 // 2 =\", 5 // 2) # Opposite of modulus (%)\n"
   ]
  },
  {
   "cell_type": "markdown",
   "metadata": {},
   "source": [
    "### Variable assignment and strings\n",
    "Shouldn't start with numbers and special symbols reserved for Python\n",
    "\n",
    "You can name variables using snake_case or camelCase "
   ]
  },
  {
   "cell_type": "code",
   "execution_count": 12,
   "metadata": {},
   "outputs": [],
   "source": [
    "quote = \"\\\"Wisdom is the principle thing, therefore get wisdom\""
   ]
  },
  {
   "cell_type": "code",
   "execution_count": 16,
   "metadata": {},
   "outputs": [],
   "source": [
    "multi_line_quote = ''' and with all thy getting\n",
    "get understanding'''"
   ]
  },
  {
   "cell_type": "code",
   "execution_count": 21,
   "metadata": {},
   "outputs": [],
   "source": [
    "new_string = quote + multi_line_quote # String concatenation"
   ]
  },
  {
   "cell_type": "code",
   "execution_count": 19,
   "metadata": {},
   "outputs": [
    {
     "name": "stdout",
     "output_type": "stream",
     "text": [
      "\"Wisdom is the principle thing, therefore get wisdom and with all thy getting\n",
      "get understanding\n"
     ]
    }
   ],
   "source": [
    "print(new_string)"
   ]
  },
  {
   "cell_type": "code",
   "execution_count": 20,
   "metadata": {},
   "outputs": [
    {
     "name": "stdout",
     "output_type": "stream",
     "text": [
      "I like the quote: \"Wisdom is the principle thing, therefore get wisdom  and with all thy getting\n",
      "get understanding\n"
     ]
    }
   ],
   "source": [
    "print(\"%s %s %s\" % ('I like the quote:', quote, multi_line_quote))"
   ]
  },
  {
   "cell_type": "code",
   "execution_count": 35,
   "metadata": {},
   "outputs": [],
   "source": [
    "name  = 'Foo'\n",
    "surname = 'Bar'\n",
    "age = 'of 90 years.' \n",
    "statement = 'I think John Snow knows something'"
   ]
  },
  {
   "cell_type": "code",
   "execution_count": 36,
   "metadata": {},
   "outputs": [
    {
     "name": "stdout",
     "output_type": "stream",
     "text": [
      "My names are Foo Bar of 90 years. I think John Snow knows something\n"
     ]
    }
   ],
   "source": [
    "print(\"%s %s %s %s %s\" % ('My names are', name, surname, age, statement))"
   ]
  },
  {
   "cell_type": "code",
   "execution_count": 38,
   "metadata": {},
   "outputs": [
    {
     "name": "stdout",
     "output_type": "stream",
     "text": [
      "I like \n",
      "newlines\n"
     ]
    }
   ],
   "source": [
    "print(\"I like \")\n",
    "print(\"newlines\")"
   ]
  },
  {
   "cell_type": "code",
   "execution_count": 41,
   "metadata": {},
   "outputs": [
    {
     "name": "stdout",
     "output_type": "stream",
     "text": [
      "I don't like newlines\n"
     ]
    }
   ],
   "source": [
    "print(\"I don't like \", end=\"\")\n",
    "print(\"newlines\")"
   ]
  },
  {
   "cell_type": "code",
   "execution_count": 42,
   "metadata": {},
   "outputs": [
    {
     "name": "stdout",
     "output_type": "stream",
     "text": [
      "nnnnn\n"
     ]
    }
   ],
   "source": [
    "print('n' * 5)"
   ]
  },
  {
   "cell_type": "markdown",
   "metadata": {},
   "source": [
    "### String interpolation\n",
    "Using .format() method and f-string (formatted string literals)"
   ]
  },
  {
   "cell_type": "code",
   "execution_count": 43,
   "metadata": {},
   "outputs": [
    {
     "name": "stdout",
     "output_type": "stream",
     "text": [
      "The quick brown fox\n"
     ]
    }
   ],
   "source": [
    "print(\"The {2} {1} {0}\".format('fox', 'brown', 'quick'))"
   ]
  },
  {
   "cell_type": "code",
   "execution_count": 52,
   "metadata": {},
   "outputs": [
    {
     "name": "stdout",
     "output_type": "stream",
     "text": [
      "My pc was having kernel panics, when got a double espresso and it repaired itself.\n"
     ]
    }
   ],
   "source": [
    "issue = 'kernel panics'\n",
    "solution = 'double espresso'\n",
    "\n",
    "print(\"My pc was having {}, when got a {} and it repaired itself.\".format(issue, solution))"
   ]
  },
  {
   "cell_type": "code",
   "execution_count": 53,
   "metadata": {},
   "outputs": [
    {
     "name": "stdout",
     "output_type": "stream",
     "text": [
      "My pc was having kernel panics, when got a double espresso and it repaired itself.\n"
     ]
    }
   ],
   "source": [
    "print(f\"My pc was having {issue}, when got a {solution} and it repaired itself.\")"
   ]
  },
  {
   "cell_type": "code",
   "execution_count": 54,
   "metadata": {},
   "outputs": [],
   "source": [
    "name = 'Foo'"
   ]
  },
  {
   "cell_type": "code",
   "execution_count": 57,
   "metadata": {},
   "outputs": [],
   "source": [
    "last_letters = name[1:]"
   ]
  },
  {
   "cell_type": "code",
   "execution_count": 58,
   "metadata": {},
   "outputs": [
    {
     "data": {
      "text/plain": [
       "'oo'"
      ]
     },
     "execution_count": 58,
     "metadata": {},
     "output_type": "execute_result"
    }
   ],
   "source": [
    "last_letters"
   ]
  },
  {
   "cell_type": "code",
   "execution_count": 59,
   "metadata": {},
   "outputs": [],
   "source": [
    "first_letter = name[:1]"
   ]
  },
  {
   "cell_type": "code",
   "execution_count": 60,
   "metadata": {},
   "outputs": [
    {
     "data": {
      "text/plain": [
       "'F'"
      ]
     },
     "execution_count": 60,
     "metadata": {},
     "output_type": "execute_result"
    }
   ],
   "source": [
    "first_letter"
   ]
  },
  {
   "cell_type": "code",
   "execution_count": 61,
   "metadata": {},
   "outputs": [
    {
     "data": {
      "text/plain": [
       "'Poo'"
      ]
     },
     "execution_count": 61,
     "metadata": {},
     "output_type": "execute_result"
    }
   ],
   "source": [
    "'P' + last_letters"
   ]
  },
  {
   "cell_type": "code",
   "execution_count": 62,
   "metadata": {},
   "outputs": [
    {
     "name": "stdout",
     "output_type": "stream",
     "text": [
      "Foo is not my real name\n"
     ]
    }
   ],
   "source": [
    "print(name + ' is not my real name')"
   ]
  },
  {
   "cell_type": "code",
   "execution_count": 63,
   "metadata": {},
   "outputs": [],
   "source": [
    "result = 100/90"
   ]
  },
  {
   "cell_type": "code",
   "execution_count": 64,
   "metadata": {},
   "outputs": [
    {
     "data": {
      "text/plain": [
       "1.1111111111111112"
      ]
     },
     "execution_count": 64,
     "metadata": {},
     "output_type": "execute_result"
    }
   ],
   "source": [
    "result"
   ]
  },
  {
   "cell_type": "code",
   "execution_count": 65,
   "metadata": {},
   "outputs": [
    {
     "name": "stdout",
     "output_type": "stream",
     "text": [
      "The result is 1.1111111111111112\n"
     ]
    }
   ],
   "source": [
    "print(\"The result is {r}\".format(r=result))"
   ]
  },
  {
   "cell_type": "markdown",
   "metadata": {},
   "source": [
    "### Lists \n",
    "\n",
    "Lists are ordered sequences that can hold a variety of object types.\n",
    "\n",
    "They use [ ] brackets and coma separated objects.\n",
    "\n",
    "Lists support indexing and slicing. Lists can be nested and also have a variety of useful methods.\n",
    "\n",
    "Lists are synanymous to Arrays in other programming Languages like Ruby and Javascript"
   ]
  },
  {
   "cell_type": "code",
   "execution_count": 97,
   "metadata": {},
   "outputs": [],
   "source": [
    "grocery_list = ['Juice', 'Tomatoes', 'Potatoes',\n",
    "               'Bananas', 'Manchester Lager']"
   ]
  },
  {
   "cell_type": "code",
   "execution_count": 98,
   "metadata": {},
   "outputs": [
    {
     "name": "stdout",
     "output_type": "stream",
     "text": [
      "Fifth Item: Manchester Lager\n"
     ]
    }
   ],
   "source": [
    "print('Fifth Item:', grocery_list[4])"
   ]
  },
  {
   "cell_type": "code",
   "execution_count": 99,
   "metadata": {},
   "outputs": [],
   "source": [
    "grocery_list[0] = \"Green Juice\""
   ]
  },
  {
   "cell_type": "code",
   "execution_count": 100,
   "metadata": {},
   "outputs": [
    {
     "name": "stdout",
     "output_type": "stream",
     "text": [
      "['Tomatoes', 'Potatoes']\n"
     ]
    }
   ],
   "source": [
    "# Printing a subset of a list \n",
    "\n",
    "print(grocery_list[1:3]) # From index 1 to 3, not including 3 though. Weard but works like that."
   ]
  },
  {
   "cell_type": "code",
   "execution_count": 104,
   "metadata": {},
   "outputs": [],
   "source": [
    "other_events = ['Go to the store', 'Go to the gym', 'Read some journals']"
   ]
  },
  {
   "cell_type": "code",
   "execution_count": 107,
   "metadata": {},
   "outputs": [],
   "source": [
    "to_do_list = [other_events, grocery_list]"
   ]
  },
  {
   "cell_type": "code",
   "execution_count": 108,
   "metadata": {},
   "outputs": [
    {
     "name": "stdout",
     "output_type": "stream",
     "text": [
      "[['Go to the store', 'Go to the gym', 'Read some journals'], ['Green Juice', 'Tomatoes', 'Potatoes', 'Bananas', 'Manchester Lager']]\n"
     ]
    }
   ],
   "source": [
    "print(to_do_list)"
   ]
  },
  {
   "cell_type": "code",
   "execution_count": 109,
   "metadata": {},
   "outputs": [
    {
     "name": "stdout",
     "output_type": "stream",
     "text": [
      "Tomatoes\n"
     ]
    }
   ],
   "source": [
    "print((to_do_list[1][1])) # 1 (second list), 1 in item in index 1 of second list "
   ]
  },
  {
   "cell_type": "code",
   "execution_count": 110,
   "metadata": {},
   "outputs": [
    {
     "name": "stdout",
     "output_type": "stream",
     "text": [
      "Read some journals\n"
     ]
    }
   ],
   "source": [
    "print((to_do_list[0][2]))"
   ]
  },
  {
   "cell_type": "code",
   "execution_count": 111,
   "metadata": {},
   "outputs": [],
   "source": [
    "grocery_list.append('Onions')"
   ]
  },
  {
   "cell_type": "code",
   "execution_count": 112,
   "metadata": {},
   "outputs": [
    {
     "data": {
      "text/plain": [
       "['Green Juice',\n",
       " 'Tomatoes',\n",
       " 'Potatoes',\n",
       " 'Bananas',\n",
       " 'Manchester Lager',\n",
       " 'Onions']"
      ]
     },
     "execution_count": 112,
     "metadata": {},
     "output_type": "execute_result"
    }
   ],
   "source": [
    "grocery_list"
   ]
  },
  {
   "cell_type": "code",
   "execution_count": 113,
   "metadata": {},
   "outputs": [],
   "source": [
    "grocery_list.insert(1, 'Pickle')"
   ]
  },
  {
   "cell_type": "code",
   "execution_count": 114,
   "metadata": {},
   "outputs": [
    {
     "data": {
      "text/plain": [
       "['Green Juice',\n",
       " 'Pickle',\n",
       " 'Tomatoes',\n",
       " 'Potatoes',\n",
       " 'Bananas',\n",
       " 'Manchester Lager',\n",
       " 'Onions']"
      ]
     },
     "execution_count": 114,
     "metadata": {},
     "output_type": "execute_result"
    }
   ],
   "source": [
    "grocery_list"
   ]
  },
  {
   "cell_type": "code",
   "execution_count": 115,
   "metadata": {},
   "outputs": [],
   "source": [
    "grocery_list.sort()"
   ]
  },
  {
   "cell_type": "code",
   "execution_count": 116,
   "metadata": {},
   "outputs": [
    {
     "data": {
      "text/plain": [
       "['Bananas',\n",
       " 'Green Juice',\n",
       " 'Manchester Lager',\n",
       " 'Onions',\n",
       " 'Pickle',\n",
       " 'Potatoes',\n",
       " 'Tomatoes']"
      ]
     },
     "execution_count": 116,
     "metadata": {},
     "output_type": "execute_result"
    }
   ],
   "source": [
    "grocery_list"
   ]
  },
  {
   "cell_type": "code",
   "execution_count": 117,
   "metadata": {},
   "outputs": [],
   "source": [
    "grocery_list.reverse()"
   ]
  },
  {
   "cell_type": "code",
   "execution_count": 118,
   "metadata": {},
   "outputs": [
    {
     "data": {
      "text/plain": [
       "['Tomatoes',\n",
       " 'Potatoes',\n",
       " 'Pickle',\n",
       " 'Onions',\n",
       " 'Manchester Lager',\n",
       " 'Green Juice',\n",
       " 'Bananas']"
      ]
     },
     "execution_count": 118,
     "metadata": {},
     "output_type": "execute_result"
    }
   ],
   "source": [
    "grocery_list"
   ]
  },
  {
   "cell_type": "code",
   "execution_count": 119,
   "metadata": {},
   "outputs": [],
   "source": [
    "del grocery_list[4]"
   ]
  },
  {
   "cell_type": "code",
   "execution_count": 120,
   "metadata": {},
   "outputs": [
    {
     "data": {
      "text/plain": [
       "['Tomatoes', 'Potatoes', 'Pickle', 'Onions', 'Green Juice', 'Bananas']"
      ]
     },
     "execution_count": 120,
     "metadata": {},
     "output_type": "execute_result"
    }
   ],
   "source": [
    "grocery_list"
   ]
  },
  {
   "cell_type": "code",
   "execution_count": 121,
   "metadata": {},
   "outputs": [],
   "source": [
    "to_do_list2 = other_events + grocery_list"
   ]
  },
  {
   "cell_type": "code",
   "execution_count": 122,
   "metadata": {},
   "outputs": [
    {
     "data": {
      "text/plain": [
       "['Go to the store',\n",
       " 'Go to the gym',\n",
       " 'Read some journals',\n",
       " 'Tomatoes',\n",
       " 'Potatoes',\n",
       " 'Pickle',\n",
       " 'Onions',\n",
       " 'Green Juice',\n",
       " 'Bananas']"
      ]
     },
     "execution_count": 122,
     "metadata": {},
     "output_type": "execute_result"
    }
   ],
   "source": [
    "to_do_list2"
   ]
  },
  {
   "cell_type": "markdown",
   "metadata": {},
   "source": [
    "### Tuples\n",
    "Are very similar to lists but unlike lists, you cannot change a tuple after it's created.\n"
   ]
  },
  {
   "cell_type": "code",
   "execution_count": 123,
   "metadata": {},
   "outputs": [],
   "source": [
    "pi_tuple = (3,4,56,3,12,1,1,2,3,)"
   ]
  },
  {
   "cell_type": "code",
   "execution_count": 124,
   "metadata": {},
   "outputs": [],
   "source": [
    "new_tuple = list(pi_tuple) # convert tuple to  a list"
   ]
  },
  {
   "cell_type": "code",
   "execution_count": 125,
   "metadata": {},
   "outputs": [
    {
     "data": {
      "text/plain": [
       "[3, 4, 56, 3, 12, 1, 1, 2, 3]"
      ]
     },
     "execution_count": 125,
     "metadata": {},
     "output_type": "execute_result"
    }
   ],
   "source": [
    "new_tuple"
   ]
  },
  {
   "cell_type": "code",
   "execution_count": 126,
   "metadata": {},
   "outputs": [],
   "source": [
    "new_list = tuple(new_tuple) # list to tuple"
   ]
  },
  {
   "cell_type": "code",
   "execution_count": 127,
   "metadata": {},
   "outputs": [
    {
     "data": {
      "text/plain": [
       "(3, 4, 56, 3, 12, 1, 1, 2, 3)"
      ]
     },
     "execution_count": 127,
     "metadata": {},
     "output_type": "execute_result"
    }
   ],
   "source": [
    "new_list"
   ]
  },
  {
   "cell_type": "markdown",
   "metadata": {},
   "source": [
    "### Dictionaries\n",
    "Dictionaries are similar to lists but they have key value pairs."
   ]
  },
  {
   "cell_type": "code",
   "execution_count": 128,
   "metadata": {},
   "outputs": [],
   "source": [
    "great_movies = {'Shawshank Redemption' : 'Tim Robbins',\n",
    "               'Black Panther' : 'Chadwick Boseman',\n",
    "               'Mission Impossible' : 'Tom Cruse',\n",
    "               'IP Man' : 'Donnie Yen',\n",
    "               'Transporter' : 'Jason Statham',\n",
    "               'Batman' : 'Robert Pattinson'}"
   ]
  },
  {
   "cell_type": "code",
   "execution_count": 129,
   "metadata": {},
   "outputs": [
    {
     "data": {
      "text/plain": [
       "{'Shawshank Redemption': 'Tim Robbins',\n",
       " 'Black Panther': 'Chadwick Boseman',\n",
       " 'Mission Impossible': 'Tom Cruse',\n",
       " 'IP Man': 'Donnie Yen',\n",
       " 'Transporter': 'Jason Statham',\n",
       " 'Batman': 'Robert Pattinson'}"
      ]
     },
     "execution_count": 129,
     "metadata": {},
     "output_type": "execute_result"
    }
   ],
   "source": [
    "great_movies"
   ]
  },
  {
   "cell_type": "code",
   "execution_count": 130,
   "metadata": {},
   "outputs": [
    {
     "name": "stdout",
     "output_type": "stream",
     "text": [
      "Donnie Yen\n"
     ]
    }
   ],
   "source": [
    "print(great_movies['IP Man'])"
   ]
  },
  {
   "cell_type": "code",
   "execution_count": 131,
   "metadata": {},
   "outputs": [
    {
     "name": "stdout",
     "output_type": "stream",
     "text": [
      "Jason Statham\n"
     ]
    }
   ],
   "source": [
    "print(great_movies['Transporter'])"
   ]
  },
  {
   "cell_type": "code",
   "execution_count": 132,
   "metadata": {},
   "outputs": [],
   "source": [
    "del great_movies['Shawshank Redemption']"
   ]
  },
  {
   "cell_type": "code",
   "execution_count": 133,
   "metadata": {},
   "outputs": [
    {
     "data": {
      "text/plain": [
       "{'Black Panther': 'Chadwick Boseman',\n",
       " 'Mission Impossible': 'Tom Cruse',\n",
       " 'IP Man': 'Donnie Yen',\n",
       " 'Transporter': 'Jason Statham',\n",
       " 'Batman': 'Robert Pattinson'}"
      ]
     },
     "execution_count": 133,
     "metadata": {},
     "output_type": "execute_result"
    }
   ],
   "source": [
    "great_movies"
   ]
  },
  {
   "cell_type": "code",
   "execution_count": null,
   "metadata": {},
   "outputs": [],
   "source": []
  }
 ],
 "metadata": {
  "kernelspec": {
   "display_name": "Python 3",
   "language": "python",
   "name": "python3"
  },
  "language_info": {
   "codemirror_mode": {
    "name": "ipython",
    "version": 3
   },
   "file_extension": ".py",
   "mimetype": "text/x-python",
   "name": "python",
   "nbconvert_exporter": "python",
   "pygments_lexer": "ipython3",
   "version": "3.7.3"
  }
 },
 "nbformat": 4,
 "nbformat_minor": 2
}
