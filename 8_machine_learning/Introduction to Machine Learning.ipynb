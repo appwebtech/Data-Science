{
 "cells": [
  {
   "cell_type": "markdown",
   "metadata": {},
   "source": [
    "# Machine Learning \n",
    "\n",
    "## Introduction to Machine Learning\n",
    "**Machine learning is a method of data analysis that automates analytical model building.**\n",
    "\n",
    "\n",
    "* Using algorithms that iteratively learn from data, machine learning allows computers to find hidden insights without being explicitly programmed where to look. \n",
    "\n",
    "### What is Machine Learning used for?\n",
    "* Fraud detection \n",
    "* Web search results \n",
    "* Real-time ads on web pages\n",
    "* credit scoring and next-best offers.\n",
    "* Prediction  of equipment failures.\n",
    "* New pricing models \n",
    "* Network Intrusion detection. \n",
    "* Recommendation Engines\n",
    "* Customer Segmentation \n",
    "* Text sentiment Analysis \n",
    "* Predicting customer churn \n",
    "* Pattern and Image recognition \n",
    "* Email spam filtering \n",
    "* Financial Modelling etc\n",
    "\n",
    "There are 3 main types of Machine Learning algorithms.\n",
    "\n",
    "#### 1. Supervised Learning\n",
    "* You have labeled data and are trying to predict a label based off of known features. *eg a piece of equipment could have data points labeled either 'F' (failed) or 'R' (runs)* \n",
    "\n",
    "#### 2. Unsupervised Learning\n",
    "* You have unlabeled data and are trying to group together similar data points based off of features.\n",
    "\n",
    "#### 3. Reinforcement Learning \n",
    "* Algorithms learn to perform an action from experience. Often used for robotics, gaming and navigation. \n",
    "\n",
    "\n",
    "\n"
   ]
  },
  {
   "cell_type": "code",
   "execution_count": null,
   "metadata": {},
   "outputs": [],
   "source": []
  }
 ],
 "metadata": {
  "kernelspec": {
   "display_name": "Python 3",
   "language": "python",
   "name": "python3"
  },
  "language_info": {
   "codemirror_mode": {
    "name": "ipython",
    "version": 3
   },
   "file_extension": ".py",
   "mimetype": "text/x-python",
   "name": "python",
   "nbconvert_exporter": "python",
   "pygments_lexer": "ipython3",
   "version": "3.7.3"
  }
 },
 "nbformat": 4,
 "nbformat_minor": 2
}
