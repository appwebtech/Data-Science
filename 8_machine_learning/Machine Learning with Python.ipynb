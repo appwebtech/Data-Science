{
 "cells": [
  {
   "cell_type": "markdown",
   "metadata": {},
   "source": [
    "## Machine Learning with Python \n",
    "\n",
    "We'll be using **Scikit Learn** package which is the most popular package with a lot of algorithms built in. \n",
    "\n",
    "INSTALLATION \n",
    "\n",
    "**conda install scikit-learn**\n",
    "\n",
    "**pip install scikit-learn**\n",
    "\n",
    "Every algorithm is exposed in scikit-learn via an \"Estimator\"\n",
    "\n",
    "Firstly, you'll import the model, the general form is:\n",
    "\n",
    "**from sklearn.family import Model**\n",
    "\n",
    "example:\n",
    "\n",
    "**from sklearn.linear_model import LinearRegression**"
   ]
  },
  {
   "cell_type": "code",
   "execution_count": null,
   "metadata": {},
   "outputs": [],
   "source": []
  }
 ],
 "metadata": {
  "kernelspec": {
   "display_name": "Python 3",
   "language": "python",
   "name": "python3"
  },
  "language_info": {
   "codemirror_mode": {
    "name": "ipython",
    "version": 3
   },
   "file_extension": ".py",
   "mimetype": "text/x-python",
   "name": "python",
   "nbconvert_exporter": "python",
   "pygments_lexer": "ipython3",
   "version": "3.7.3"
  }
 },
 "nbformat": 4,
 "nbformat_minor": 2
}
